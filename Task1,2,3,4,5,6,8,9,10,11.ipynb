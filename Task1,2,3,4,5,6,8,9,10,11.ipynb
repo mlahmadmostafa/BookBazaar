{
 "cells": [
  {
   "cell_type": "markdown",
   "metadata": {},
   "source": [
    "# BookBazaar: Library Management System\n",
    "\n",
    "This project is a comprehensive library management system that integrates both a relational database (SQLite) and a non-relational database (MongoDB). The system allows users to manage books, authors, and reviews through RESTful APIs built with Flask.\n",
    "\n",
    "---\n",
    "\n",
    "### **Project Tasks**\n",
    "1. Set up the relational database with SQLite.\n",
    "2. Design the relational database schema.\n",
    "3. Connect Python to SQLite.\n",
    "4. Implement CRUD operations on SQLite via Python.\n",
    "5. Develop RESTful APIs with Python.\n",
    "6. Test APIs using Postman.\n",
    "7. Host APIs on an Apache web server.\n",
    "8. Set up the non-relational database with MongoDB.\n",
    "9. Connect Python to MongoDB using PyMongo.\n",
    "10. Implement CRUD operations on MongoDB via Python.\n",
    "11. Integrate MongoDB operations into the APIs.\n",
    "12. Document the entire project.\n",
    "\n",
    "---\n",
    "\n",
    "### **Notebook Structure**\n",
    "This notebook is organized into sections corresponding to each task. Code blocks are provided for each step, along with explanations and outputs."
   ]
  },
  {
   "cell_type": "markdown",
   "metadata": {},
   "source": [
    "## Task 1: Set Up the Relational Database with SQLite\n",
    "\n",
    "In this task, we will:\n",
    "1. Install SQLite (if not already installed).\n",
    "2. Create a new SQLite database file (`bookbazaar.db`).\n",
    "3. Ensure proper permissions for the database file."
   ]
  },
  {
   "cell_type": "markdown",
   "metadata": {},
   "source": [
    "## Step 1: Install SQLite\n",
    "\n",
    "SQLite is a lightweight, file-based database that does not require a separate server. It is often pre-installed on many systems. If not, we will install it."
   ]
  },
  {
   "cell_type": "code",
   "execution_count": 2,
   "metadata": {},
   "outputs": [
    {
     "name": "stderr",
     "output_type": "stream",
     "text": [
      "/var/folders/w_/by6jwxr56y37ngmjq894222w0000gn/T/ipykernel_3114/1039375098.py:3: DeprecationWarning: version is deprecated and will be removed in Python 3.14\n",
      "  sqlite3.version\n"
     ]
    },
    {
     "data": {
      "text/plain": [
       "'2.6.0'"
      ]
     },
     "execution_count": 2,
     "metadata": {},
     "output_type": "execute_result"
    }
   ],
   "source": [
    "# Check if SQLite is installed\n",
    "import sqlite3\n",
    "sqlite3.version"
   ]
  },
  {
   "cell_type": "markdown",
   "metadata": {},
   "source": [
    "## Step 2: Create a New SQLite Database File\n",
    "\n",
    "We will create a new SQLite database file named `bookbazaar.db` in the current directory."
   ]
  },
  {
   "cell_type": "code",
   "execution_count": 3,
   "metadata": {},
   "outputs": [
    {
     "name": "stdout",
     "output_type": "stream",
     "text": [
      "Database 'bookbazaar.db' created successfully!\n"
     ]
    }
   ],
   "source": [
    "# Create or connect to the SQLite database\n",
    "db_file = \"bookbazaar.db\"\n",
    "conn = sqlite3.connect(db_file)\n",
    "\n",
    "# Verify the connection\n",
    "if conn:\n",
    "    print(f\"Database '{db_file}' created successfully!\")\n",
    "else:\n",
    "    print(\"Failed to create the database.\")\n",
    "\n",
    "# Close the connection\n",
    "conn.close()"
   ]
  },
  {
   "cell_type": "markdown",
   "metadata": {},
   "source": [
    "## Step 3: Test Permissions and Database Access\n",
    "\n",
    "We will test whether the `bookbazaar.db` file has the correct permissions and whether Python can read and write to it."
   ]
  },
  {
   "cell_type": "code",
   "execution_count": 4,
   "metadata": {},
   "outputs": [
    {
     "name": "stdout",
     "output_type": "stream",
     "text": [
      "bookbazaar.db has read and write permissions!\n",
      "Connected to the database successfully!\n",
      "Error accessing the database: database is locked\n",
      "Sample table is deleted!\n"
     ]
    }
   ],
   "source": [
    "import os\n",
    "import sqlite3\n",
    "db_file = \"bookbazaar.db\"\n",
    "\n",
    "# Check file permissions\n",
    "if os.access(db_file, os.R_OK) and os.access(db_file, os.W_OK):\n",
    "    print(f\"{db_file} has read and write permissions!\")\n",
    "else:\n",
    "    print(f\"Permissions issue: Cannot read or write to {db_file}.\")\n",
    "\n",
    "# Test database access\n",
    "try:\n",
    "    # Connect to the SQLite database\n",
    "    connection = sqlite3.connect(\"bookbazaar.db\")\n",
    "    print(\"Connected to the database successfully!\")\n",
    "    \n",
    "    # Create a sample table\n",
    "    cursor = connection.cursor()\n",
    "    cursor.execute(\"\"\"\n",
    "    CREATE TABLE IF NOT EXISTS samplebooks (\n",
    "        id INTEGER PRIMARY KEY AUTOINCREMENT,\n",
    "        title TEXT NOT NULL,\n",
    "        author TEXT NOT NULL,\n",
    "        published_year INTEGER\n",
    "    );\n",
    "    \"\"\")\n",
    "    print(\"Sample table created successfully!\")\n",
    "\n",
    "    # Test a write operation\n",
    "    cursor.execute(\"\"\"\n",
    "    INSERT INTO samplebooks (title, author, published_year)\n",
    "    VALUES ('The Thorn and the Carnation', 'Yahya Al-Sinwar', 2025);\n",
    "    \"\"\")\n",
    "    connection.commit()\n",
    "    print(\"Write test successful!\")\n",
    "    \n",
    "    # Test a read operation\n",
    "    cursor.execute(\"SELECT * FROM samplebooks;\")\n",
    "    print(\"Read test successful! Data:\")\n",
    "    for row in cursor.fetchall():\n",
    "        print(row)\n",
    "    \n",
    "except Exception as e:\n",
    "    print(\"Error accessing the database:\", e)\n",
    "finally:\n",
    "    cursor.execute(\"DROP TABLE IF EXISTS samplebooks;\")\n",
    "    print(\"Sample table is deleted!\")\n",
    "\n",
    "        # Cleanup\n",
    "    cursor.close()\n",
    "    connection.close()\n"
   ]
  },
  {
   "cell_type": "markdown",
   "metadata": {},
   "source": [
    "## Troubleshooting\n",
    "\n",
    "If the script encounters errors like:\n",
    "\n",
    "- **\"Permission denied\"**:\n",
    "  - Check file or directory permissions and adjust them as explained in the setup steps.\n",
    "  - Ensure the directory and file are accessible to your script or application.\n",
    "\n",
    "- **\"Unable to write to database\"**:\n",
    "  - Ensure no other processes are locking the file.\n",
    "  - Verify that the database file isn't set to read-only. \n",
    "    - On Linux/macOS: Use the `chmod` command to adjust permissions.\n",
    "    - On Windows: Check the file properties and ensure it is not marked as read-only.\n"
   ]
  },
  {
   "cell_type": "markdown",
   "metadata": {},
   "source": [
    "## Summary\n",
    "\n",
    "- **SQLite Installed**: Confirmed by running `sqlite3 --version`.\n",
    "- **Database File Created**: `bookbazaar.db` exists in the current directory.\n",
    "- **Permissions Verified**: The file has the correct permissions for read/write access.\n",
    "- **Database Access Tested**: Successfully performed read and write operations on the database."
   ]
  },
  {
   "cell_type": "markdown",
   "metadata": {},
   "source": [
    "## Next Steps\n",
    "\n",
    "- Proceed to **Task 2: Design the Relational Database Schema** to define the structure of your database (e.g., `Books`, `Authors`, and `Users` tables).\n",
    "- Use the `bookbazaar.db` file as the foundation for your schema design."
   ]
  },
  {
   "cell_type": "markdown",
   "metadata": {},
   "source": [
    "# Task 2: Design the Relational Database Schema\n",
    "\n",
    "In this task, we will:\n",
    "1. Identify the entities and their fields.\n",
    "2. Define primary and foreign keys.\n",
    "3. Create the `Users`, `Authors`, and `Books` tables.\n",
    "4. Insert sample data into the tables.\n",
    "5. Verify the schema and data.\n",
    "\n",
    "---\n",
    "\n",
    "### **Requirements**\n",
    "1. Identify the entities (e.g., Users, Authors, Books).\n",
    "2. Define the fields for each table.\n",
    "3. Set primary and foreign keys.\n",
    "4. Create an ER diagram (optional).\n",
    "5. Prepare SQL commands to create tables and insert sample data."
   ]
  },
  {
   "cell_type": "markdown",
   "metadata": {},
   "source": [
    "## Step 1: Identify Entities and Their Fields\n",
    "\n",
    "We will create three tables:\n",
    "1. **Users**: To store user information.\n",
    "2. **Authors**: To store author information.\n",
    "3. **Books**: To store book information.\n",
    "\n",
    "---\n",
    "\n",
    "### **Fields for Each Table**\n",
    "\n",
    "#### **Users Table**\n",
    "- `id`: Unique identifier for each user (Primary Key).\n",
    "- `username`: Username of the user (Not Null, Unique).\n",
    "- `email`: Email address of the user (Not Null, Unique).\n",
    "- `password_hash`: Hashed password for security (Not Null).\n",
    "\n",
    "#### **Authors Table**\n",
    "- `id`: Unique identifier for each author (Primary Key).\n",
    "- `name`: Name of the author (Not Null).\n",
    "- `country`: Country of the author.\n",
    "\n",
    "#### **Books Table**\n",
    "- `id`: Unique identifier for each book (Primary Key).\n",
    "- `title`: Title of the book (Not Null).\n",
    "- `author_id`: ID of the author who wrote the book (Foreign Key referencing Authors.id, Not Null).\n",
    "- `genre`: Genre of the book.\n",
    "- `published_year`: Year the book was published."
   ]
  },
  {
   "cell_type": "markdown",
   "metadata": {},
   "source": [
    "## Step 2: Define Primary and Foreign Keys\n",
    "\n",
    "- **Primary Keys**:\n",
    "  - `Users.id`\n",
    "  - `Authors.id`\n",
    "  - `Books.id`\n",
    "\n",
    "- **Foreign Key**:\n",
    "  - `Books.author_id` references `Authors.id`"
   ]
  },
  {
   "cell_type": "markdown",
   "metadata": {},
   "source": [
    "## Step 3: ER diagram\n",
    "\n"
   ]
  },
  {
   "cell_type": "markdown",
   "metadata": {},
   "source": [
    "############################"
   ]
  },
  {
   "cell_type": "markdown",
   "metadata": {},
   "source": [
    "## Step 4: Create the Tables\n",
    "\n",
    "We will now create the `Users`, `Authors`, and `Books` tables using SQL commands."
   ]
  },
  {
   "cell_type": "code",
   "execution_count": 5,
   "metadata": {},
   "outputs": [],
   "source": [
    "# Import the sqlite3 module\n",
    "import sqlite3\n",
    "from contextlib import closing\n",
    "\n",
    "# Connect to the SQLite database\n",
    "conn = sqlite3.connect('bookbazaar.db')\n",
    "cursor = conn.cursor()\n",
    "\n",
    "#cursor.execute(\"DROP TABLE IF EXISTS Users;\")\n",
    "#cursor.execute(\"DROP TABLE IF EXISTS Authors;\")\n",
    "#cursor.execute(\"DROP TABLE IF EXISTS Books;\")\n",
    "\n",
    "\n",
    "# Create the Users table\n",
    "cursor.execute('''\n",
    "CREATE TABLE IF NOT EXISTS Users (\n",
    "    id INTEGER PRIMARY KEY AUTOINCREMENT,\n",
    "    username TEXT NOT NULL UNIQUE,\n",
    "    email TEXT NOT NULL UNIQUE,\n",
    "    password_hash TEXT NOT NULL\n",
    ");\n",
    "''')\n",
    "\n",
    "# Create the Authors table\n",
    "cursor.execute('''\n",
    "CREATE TABLE IF NOT EXISTS Authors (\n",
    "    id INTEGER PRIMARY KEY AUTOINCREMENT,\n",
    "    name TEXT NOT NULL,\n",
    "    country TEXT\n",
    ");\n",
    "''')\n",
    "\n",
    "# Create the Books table\n",
    "cursor.execute('''\n",
    "CREATE TABLE IF NOT EXISTS Books (\n",
    "    id INTEGER PRIMARY KEY AUTOINCREMENT,\n",
    "    title TEXT NOT NULL,\n",
    "    author_id INTEGER NOT NULL,\n",
    "    genre TEXT,\n",
    "    published_year INTEGER,\n",
    "    FOREIGN KEY (author_id) REFERENCES Authors(id)\n",
    ");\n",
    "''')\n",
    "\n",
    "# Commit the changes\n",
    "conn.commit()\n",
    "# Close the connection\n",
    "cursor.close()\n",
    "conn.close()\n"
   ]
  },
  {
   "cell_type": "markdown",
   "metadata": {},
   "source": [
    "## Step 4: Insert Sample Data\n",
    "\n",
    "We will now insert sample data into the `Users`, `Authors`, and `Books` tables."
   ]
  },
  {
   "cell_type": "code",
   "execution_count": 6,
   "metadata": {},
   "outputs": [
    {
     "name": "stdout",
     "output_type": "stream",
     "text": [
      "An error occurred: UNIQUE constraint failed: Users.email\n"
     ]
    }
   ],
   "source": [
    "import sqlite3\n",
    "# Connect to the database\n",
    "conn = sqlite3.connect('bookbazaar.db')\n",
    "cursor = conn.cursor()\n",
    "\n",
    "try:\n",
    "    # Insert sample data into Users table\n",
    "    cursor.execute('''\n",
    "    INSERT INTO Users (username, email, password_hash)\n",
    "    VALUES \n",
    "    ('user1', 'user1@example.com', 'hash1'),\n",
    "    ('user2', 'user2@example.com', 'hash2');\n",
    "    ''')\n",
    "    print(\"Sample Users data inserted successfully!\")\n",
    "    # Insert sample data into Authors table\n",
    "    cursor.execute('''\n",
    "    INSERT INTO Authors (name, country)\n",
    "    VALUES \n",
    "    ('Yahya Al-Sinwar', 'Gaza'),\n",
    "    ('J.K. Rowling', 'United Kingdom'),\n",
    "    ('George Orwell', 'United Kingdom'),\n",
    "    ('Agatha Christie', 'United Kingdom');\n",
    "    ''')\n",
    "    print(\"Sample Authors data inserted successfully!\")\n",
    "\n",
    "    # Insert sample data into Books table\n",
    "    cursor.execute('''\n",
    "    INSERT INTO Books (title, author_id, genre, published_year)\n",
    "    VALUES \n",
    "    ('The Thorn and the Carnation', 1, 'War', 2025),\n",
    "    ('Harry Potter and the Philosopher''s Stone', 2, 'Fantasy', 1997),\n",
    "    ('1984', 3, 'Dystopian', 1949),\n",
    "    ('Murder on the Orient Express', 4, 'Mystery', 1934);\n",
    "    ''')\n",
    "    print(\"Sample Books data inserted successfully!\")\n",
    "\n",
    "    # Commit the changes\n",
    "    conn.commit()\n",
    "\n",
    "    # Close the connection\n",
    "    cursor.close()\n",
    "    conn.close()\n",
    "    \n",
    "except sqlite3.Error as e:\n",
    "    print(f\"An error occurred: {e}\")\n",
    "    \n"
   ]
  },
  {
   "cell_type": "markdown",
   "metadata": {},
   "source": [
    "## Step 5: Verify the Schema and Data\n",
    "\n",
    "We will now verify that the tables were created and the sample data was inserted correctly."
   ]
  },
  {
   "cell_type": "code",
   "execution_count": 7,
   "metadata": {},
   "outputs": [
    {
     "name": "stdout",
     "output_type": "stream",
     "text": [
      "Users:\n",
      "(1, 'user1', 'user1@example.com', 'hash1')\n",
      "(2, 'user2', 'user2@example.com', 'hash2')\n",
      "\n",
      "Authors:\n",
      "(1, 'Yahya Al-Sinwar', 'Gaza')\n",
      "(2, 'J.K. Rowling', 'United Kingdom')\n",
      "(3, 'George Orwell', 'United Kingdom')\n",
      "(4, 'Agatha Christie', 'United Kingdom')\n",
      "\n",
      "Books:\n",
      "(2, \"Harry Potter and the Philosopher's Stone\", 2, 'Fantasy', 1997)\n",
      "(3, '1984', 3, 'Dystopian', 1949)\n",
      "(4, 'Murder on the Orient Express', 4, 'Mystery', 1934)\n",
      "(5, 'The Great Gatsby', 5, 'Fiction', 1925)\n"
     ]
    }
   ],
   "source": [
    "import sqlite3\n",
    "# Connect to the database\n",
    "conn = sqlite3.connect('bookbazaar.db')\n",
    "cursor = conn.cursor()\n",
    "\n",
    "# Fetch and display records from Users table\n",
    "cursor.execute('SELECT * FROM Users;')\n",
    "print(\"Users:\")\n",
    "for row in cursor.fetchall():\n",
    "    print(row)\n",
    "    \n",
    "\n",
    "# Fetch and display records from Authors table\n",
    "cursor.execute('SELECT * FROM Authors;')\n",
    "print(\"\\nAuthors:\")\n",
    "for row in cursor.fetchall():\n",
    "    print(row)\n",
    "    \n",
    "# Fetch and display records from Books table\n",
    "cursor.execute('SELECT * FROM Books;')\n",
    "print(\"\\nBooks:\")\n",
    "for row in cursor.fetchall():\n",
    "    print(row)\n",
    "    \n",
    "# Close the connection\n",
    "cursor.close()\n",
    "conn.close()"
   ]
  },
  {
   "cell_type": "markdown",
   "metadata": {},
   "source": [
    "## Summary\n",
    "\n",
    "- **Tables Created**: `Users`, `Authors`, and `Books` tables were created successfully.\n",
    "- **Sample Data Inserted**: Sample data was inserted into all tables.\n",
    "- **Verification**: The schema and data were verified by querying the tables."
   ]
  },
  {
   "cell_type": "markdown",
   "metadata": {},
   "source": [
    "## Next Steps\n",
    "\n",
    "- Proceed to **Task 3: Connect Python to SQLite** to establish a connection and perform CRUD operations.\n",
    "- Use the `bookbazaar.db` file as the foundation for your application."
   ]
  },
  {
   "cell_type": "markdown",
   "metadata": {},
   "source": [
    "# Task 3: Connect Python to SQLite\n",
    "\n",
    "In this task, we will:\n",
    "1. Use Python’s built-in `sqlite3` module to connect to the `bookbazaar.db` file.\n",
    "2. Implement proper error handling in case the connection fails.\n",
    "3. Confirm that the connection is successful and can be closed properly.\n",
    "\n",
    "---\n",
    "\n",
    "### **Requirements**\n",
    "1. Use the `sqlite3` module to connect to the database.\n",
    "2. Handle errors gracefully if the connection fails.\n",
    "3. Test the connection and ensure it can be closed."
   ]
  },
  {
   "cell_type": "markdown",
   "metadata": {},
   "source": [
    "## Step 1: Import the `sqlite3` Module\n",
    "\n",
    "Python’s `sqlite3` module is part of the standard library, so no additional installation is required. We’ll import it to interact with the SQLite database."
   ]
  },
  {
   "cell_type": "code",
   "execution_count": 8,
   "metadata": {},
   "outputs": [],
   "source": [
    "import sqlite3"
   ]
  },
  {
   "cell_type": "markdown",
   "metadata": {},
   "source": [
    "## Step 2: Establish a Connection to the Database\n",
    "\n",
    "We’ll use the `sqlite3.connect()` function to connect to the `bookbazaar.db` file. If the file doesn’t exist, SQLite will create it automatically."
   ]
  },
  {
   "cell_type": "code",
   "execution_count": 9,
   "metadata": {},
   "outputs": [
    {
     "name": "stdout",
     "output_type": "stream",
     "text": [
      "Connected to the database 'bookbazaar.db' successfully!\n"
     ]
    }
   ],
   "source": [
    "# Define the database file path\n",
    "db_file = \"bookbazaar.db\"\n",
    "\n",
    "# Establish a connection to the database\n",
    "try:\n",
    "    conn = sqlite3.connect(db_file)\n",
    "    print(f\"Connected to the database '{db_file}' successfully!\")\n",
    "except sqlite3.Error as e:\n",
    "    print(f\"An error occurred while connecting to the database: {e}\")"
   ]
  },
  {
   "cell_type": "markdown",
   "metadata": {},
   "source": [
    "## Step 3: Implement Error Handling\n",
    "\n",
    "We’ll add error handling to ensure the program doesn’t crash if the connection fails. This is especially important for production-level applications."
   ]
  },
  {
   "cell_type": "code",
   "execution_count": 10,
   "metadata": {},
   "outputs": [
    {
     "name": "stdout",
     "output_type": "stream",
     "text": [
      "Connected to the database 'bookbazaar.db' successfully!\n"
     ]
    }
   ],
   "source": [
    "def connect_db(db_file):\n",
    "    \"\"\"Connect to the SQLite database and return the connection object.\"\"\"\n",
    "    try:\n",
    "        # Check if the database file exists\n",
    "        if not os.path.exists(db_file):\n",
    "            raise FileNotFoundError(f\"The database file '{db_file}' does not exist.\")\n",
    "        \n",
    "        # Connect to the database\n",
    "        conn = sqlite3.connect(db_file)\n",
    "        print(f\"Connected to the database '{db_file}' successfully!\")\n",
    "        return conn\n",
    "    except sqlite3.Error as e:\n",
    "        print(f\"An error occurred while connecting to the database: {e}\")\n",
    "        return None\n",
    "    except FileNotFoundError as e:\n",
    "        print(e)\n",
    "        return None\n",
    "conn = connect_db(db_file)"
   ]
  },
  {
   "cell_type": "markdown",
   "metadata": {},
   "source": [
    "## Step 4: Confirm the Connection and Close It\n",
    "\n",
    "Once the connection is established, we’ll confirm it by performing a simple operation (e.g., querying the SQLite version). After that, we’ll close the connection properly."
   ]
  },
  {
   "cell_type": "code",
   "execution_count": 11,
   "metadata": {},
   "outputs": [
    {
     "name": "stdout",
     "output_type": "stream",
     "text": [
      "SQLite version: 3.45.3\n",
      "Connection closed successfully!\n"
     ]
    }
   ],
   "source": [
    "# Confirm the connection by querying the SQLite version\n",
    "if conn:\n",
    "    cursor = conn.cursor()\n",
    "    cursor.execute(\"SELECT sqlite_version();\")\n",
    "    version = cursor.fetchone()\n",
    "    print(f\"SQLite version: {version[0]}\")\n",
    "\n",
    "    # Close the connection\n",
    "    conn.close()\n",
    "    print(\"Connection closed successfully!\")"
   ]
  },
  {
   "cell_type": "markdown",
   "metadata": {},
   "source": [
    "## Step 5: Test the Connection Function\n",
    "\n",
    "We’ll test the `connect_db()` function with an invalid database file to ensure the error handling works as expected."
   ]
  },
  {
   "cell_type": "code",
   "execution_count": 12,
   "metadata": {},
   "outputs": [
    {
     "name": "stdout",
     "output_type": "stream",
     "text": [
      "The database file 'notyexistent.db' does not exist.\n"
     ]
    }
   ],
   "source": [
    "# Test with an invalid database file\n",
    "invalid_db_file = \"notyexistent.db\"\n",
    "conn = connect_db(invalid_db_file)"
   ]
  },
  {
   "cell_type": "markdown",
   "metadata": {},
   "source": [
    "## Summary\n",
    "\n",
    "- **Connection Established**: Successfully connected to the `bookbazaar.db` file using the `sqlite3` module.\n",
    "- **Error Handling**: Implemented proper error handling to manage connection failures.\n",
    "- **Connection Closed**: Confirmed that the connection can be closed properly.\n",
    "- **Tested Edge Cases**: Verified that the function handles invalid database files gracefully."
   ]
  },
  {
   "cell_type": "markdown",
   "metadata": {},
   "source": [
    "# Task 4: Implement CRUD Operations on SQLite via Python\n",
    "\n",
    "In this task, we will:\n",
    "1. Write functions to perform Create, Read, Update, and Delete (CRUD) operations on the `Books` table.\n",
    "2. Handle errors gracefully (e.g., if a book ID does not exist).\n",
    "\n",
    "---\n",
    "\n",
    "### **Requirements**\n",
    "1. Write functions to insert a new book into the `Books` table.\n",
    "2. Write functions to retrieve book details by ID or to list all books.\n",
    "3. Write functions to update a book’s information (e.g., genre, title).\n",
    "4. Write functions to delete a book by its ID.\n",
    "5. Ensure your functions handle errors gracefully."
   ]
  },
  {
   "cell_type": "markdown",
   "metadata": {},
   "source": [
    "## Step 1: Import the `sqlite3` Module\n",
    "\n",
    "We’ll use Python’s built-in `sqlite3` module to interact with the SQLite database."
   ]
  },
  {
   "cell_type": "code",
   "execution_count": 13,
   "metadata": {},
   "outputs": [],
   "source": [
    "import sqlite3"
   ]
  },
  {
   "cell_type": "markdown",
   "metadata": {},
   "source": [
    "## Step 2: Connect to the Database\n",
    "\n",
    "We’ll use the `connect_db()` function from Task 3 to establish a connection to the `bookbazaar.db` file."
   ]
  },
  {
   "cell_type": "code",
   "execution_count": 14,
   "metadata": {},
   "outputs": [
    {
     "name": "stdout",
     "output_type": "stream",
     "text": [
      "Connected to the database 'bookbazaar.db' successfully!\n"
     ]
    }
   ],
   "source": [
    "db_file = \"bookbazaar.db\"\n",
    "conn = connect_db(db_file)"
   ]
  },
  {
   "cell_type": "markdown",
   "metadata": {},
   "source": [
    "## Step 3: Implement CRUD Operations\n",
    "\n",
    "We’ll write functions to perform Create, Read, Update, and Delete (CRUD) operations on the `Books` table."
   ]
  },
  {
   "cell_type": "code",
   "execution_count": 15,
   "metadata": {},
   "outputs": [],
   "source": [
    "def insert_book(title, author_id, genre, published_year):\n",
    "    \"\"\"Insert a new book into the Books table.\"\"\"\n",
    "    try:\n",
    "        cursor = conn.cursor()\n",
    "        cursor.execute('''\n",
    "        INSERT INTO Books (title, author_id, genre, published_year)\n",
    "        VALUES (?, ?, ?, ?)\n",
    "        ''', (title, author_id, genre, published_year))\n",
    "        conn.commit()\n",
    "        print(\"Book inserted successfully!\")\n",
    "    except sqlite3.Error as e:\n",
    "        print(f\"An error occurred while inserting the book: {e}\")\n",
    "\n",
    "def get_book(book_id):\n",
    "    \"\"\"Retrieve a book by its ID.\"\"\"\n",
    "    try:\n",
    "        cursor = conn.cursor()\n",
    "        cursor.execute('SELECT * FROM Books WHERE id = ?', (book_id,))\n",
    "        book = cursor.fetchone()\n",
    "        if book:\n",
    "            return book\n",
    "        else:\n",
    "            print(f\"No book found with ID {book_id}.\")\n",
    "            return None\n",
    "    except sqlite3.Error as e:\n",
    "        print(f\"An error occurred while retrieving the book: {e}\")\n",
    "        return None\n",
    "\n",
    "def get_all_books():\n",
    "    \"\"\"Retrieve all books from the Books table.\"\"\"\n",
    "    try:\n",
    "        cursor = conn.cursor()\n",
    "        cursor.execute('SELECT * FROM Books')\n",
    "        books = cursor.fetchall()\n",
    "        return books\n",
    "    except sqlite3.Error as e:\n",
    "        print(f\"An error occurred while retrieving books: {e}\")\n",
    "        return None\n",
    "    \n",
    "def update_book(book_id, title=None, genre=None, published_year=None):\n",
    "    \"\"\"Update a book's information.\"\"\"\n",
    "    try:\n",
    "        cursor = conn.cursor()\n",
    "        \n",
    "        # Check if the book exists\n",
    "        cursor.execute('SELECT id FROM Books WHERE id = ?', (book_id,))\n",
    "        if not cursor.fetchone():\n",
    "            print(f\"No book found with ID {book_id}.\")\n",
    "            return\n",
    "        \n",
    "        # Update the book's information\n",
    "        if title:\n",
    "            cursor.execute('UPDATE Books SET title = ? WHERE id = ?', (title, book_id))\n",
    "        if genre:\n",
    "            cursor.execute('UPDATE Books SET genre = ? WHERE id = ?', (genre, book_id))\n",
    "        if published_year:\n",
    "            cursor.execute('UPDATE Books SET published_year = ? WHERE id = ?', (published_year, book_id))\n",
    "        \n",
    "        # Check if any rows were updated\n",
    "        if cursor.rowcount > 0:\n",
    "            conn.commit()\n",
    "            print(\"Book updated successfully!\")\n",
    "        else:\n",
    "            print(\"No changes made to the book.\")\n",
    "    except sqlite3.Error as e:\n",
    "        print(f\"An error occurred while updating the book: {e}\")\n",
    "\n",
    "def delete_book(book_id):\n",
    "    \"\"\"Delete a book by its ID.\"\"\"\n",
    "    try:\n",
    "        cursor = conn.cursor()\n",
    "        \n",
    "        # Check if the book exists\n",
    "        cursor.execute('SELECT id FROM Books WHERE id = ?', (book_id,))\n",
    "        if not cursor.fetchone():\n",
    "            print(f\"No book found with ID {book_id}.\")\n",
    "            return\n",
    "        \n",
    "        # Delete the book\n",
    "        cursor.execute('DELETE FROM Books WHERE id = ?', (book_id,))\n",
    "        \n",
    "        # Check if any rows were deleted\n",
    "        if cursor.rowcount > 0:\n",
    "            conn.commit()\n",
    "            print(\"Book deleted successfully!\")\n",
    "        else:\n",
    "            print(\"No book was deleted.\")\n",
    "    except sqlite3.Error as e:\n",
    "        print(f\"An error occurred while deleting the book: {e}\")\n"
   ]
  },
  {
   "cell_type": "markdown",
   "metadata": {},
   "source": [
    "## Step 4: Test the CRUD Functions\n",
    "\n",
    "We’ll test each CRUD function to ensure they work as expected."
   ]
  },
  {
   "cell_type": "code",
   "execution_count": 16,
   "metadata": {},
   "outputs": [
    {
     "name": "stdout",
     "output_type": "stream",
     "text": [
      "An error occurred while inserting the book: database is locked\n",
      "No book found with ID 1.\n",
      "Retrieved book: None\n",
      "All books:\n",
      "(2, \"Harry Potter and the Philosopher's Stone\", 2, 'Fantasy', 1997)\n",
      "(3, '1984', 3, 'Dystopian', 1949)\n",
      "(4, 'Murder on the Orient Express', 4, 'Mystery', 1934)\n",
      "(5, 'The Great Gatsby', 5, 'Fiction', 1925)\n",
      "(6, 'The Great Gatsby', 5, 'Fiction', 1925)\n",
      "No book found with ID 1.\n",
      "No book found with ID 1.\n"
     ]
    }
   ],
   "source": [
    "# Insert a new book\n",
    "insert_book(\"The Great Gatsby\", 5, \"Fiction\", 1925)\n",
    "\n",
    "# Retrieve a book by ID\n",
    "book = get_book(1)\n",
    "print(\"Retrieved book:\", book)\n",
    "\n",
    "# Retrieve all books\n",
    "books = get_all_books()\n",
    "print(\"All books:\")\n",
    "for book in books:\n",
    "    print(book)\n",
    "\n",
    "# Update a book's information\n",
    "update_book(1, title=\"The Great Gatsby (Updated)\", genre=\"Classic\")\n",
    "\n",
    "# Delete a book by ID\n",
    "delete_book(1)"
   ]
  },
  {
   "cell_type": "markdown",
   "metadata": {},
   "source": [
    "## Step 5: Handle Errors Gracefully\n",
    "\n",
    "We’ll test edge cases to ensure the functions handle errors gracefully."
   ]
  },
  {
   "cell_type": "code",
   "execution_count": 17,
   "metadata": {},
   "outputs": [
    {
     "name": "stdout",
     "output_type": "stream",
     "text": [
      "No book found with ID 999.\n",
      "No book found with ID 999.\n",
      "No book found with ID 999.\n",
      "No book found with ID 999.\n"
     ]
    }
   ],
   "source": [
    "# Try to retrieve a non-existent book\n",
    "book = get_book(999)\n",
    "if book is None:\n",
    "    print(\"No book found with ID 999.\")\n",
    "\n",
    "# Try to update a non-existent book\n",
    "update_book(999, title=\"Non-existent Book\")\n",
    "\n",
    "# Try to delete a non-existent book\n",
    "delete_book(999)"
   ]
  },
  {
   "cell_type": "markdown",
   "metadata": {},
   "source": [
    "## Summary\n",
    "\n",
    "- **CRUD Operations Implemented**:\n",
    "  - Insert a new book.\n",
    "  - Retrieve a book by ID or list all books.\n",
    "  - Update a book’s information.\n",
    "  - Delete a book by its ID.\n",
    "- **Error Handling**: Functions handle errors gracefully (e.g., invalid book ID).\n",
    "- **Testing**: Verified that all functions work as expected."
   ]
  },
  {
   "cell_type": "markdown",
   "metadata": {},
   "source": [
    "## Next Steps\n",
    "\n",
    "- Proceed to **Task 5: Develop RESTful APIs with Python** to expose these CRUD operations via API endpoints.\n",
    "- Use the functions created in this task to interact with the database in the API."
   ]
  },
  {
   "cell_type": "markdown",
   "metadata": {},
   "source": [
    "# Task 5 "
   ]
  },
  {
   "cell_type": "markdown",
   "metadata": {},
   "source": [
    "### Requirements \n",
    "### 1.   Set up a basic Flask application.\n",
    "### 2.   Create routes for: \n",
    "### o    GET /books to retrieve all books.\n",
    "### o    POST /books to add a new book.\n",
    "### o    PUT /books/<id> to update a book.\n",
    "### o    DELETE /books/<id> to delete a book.\n"
   ]
  },
  {
   "cell_type": "markdown",
   "metadata": {},
   "source": [
    "# Steps to Build and Run the Flask App\n",
    "\n",
    "## 1. **Import Required Libraries**\n",
    "   - Import Flask for web framework functionality.\n",
    "   - Import `request` and `jsonify` from Flask to handle HTTP requests and JSON responses.\n",
    "   - Import `sqlite3` for database operations.\n",
    "   - Import `threading` to run the Flask server in a separate thread.\n",
    "\n",
    "## 2. **Initialize the Flask App**\n",
    "   - Create a Flask app instance using `Flask(__name__)`.\n",
    "\n",
    "## 3. **Database Connection Helper**\n",
    "   - Define a `get_db_connection(db_file)` function to establish a connection to the SQLite database and set the row factory to return rows as dictionaries.\n",
    "\n",
    "## 4. **Create API Routes**\n",
    "\n",
    "### a. **Home Route**\n",
    "   - **Endpoint:** `/`\n",
    "   - **Method:** `GET`\n",
    "   - **Description:** Returns a simple welcome message: \"Hello, Flask! This is the home page.\"\n",
    "\n",
    "### b. **Get All Books**\n",
    "   - **Endpoint:** `/books`\n",
    "   - **Method:** `GET`\n",
    "   - **Description:** Retrieves all records from the `Books` table in the SQLite database.\n",
    "   - **Implementation:**\n",
    "     1. Connect to the database.\n",
    "     2. Execute a `SELECT * FROM Books` query.\n",
    "     3. Return the fetched rows as a JSON array.\n",
    "     4. Handle any database errors gracefully.\n",
    "\n",
    "### c. **Add a New Book**\n",
    "   - **Endpoint:** `/books`\n",
    "   - **Method:** `POST`\n",
    "   - **Description:** Adds a new book to the `Books` table.\n",
    "   - **Implementation:**\n",
    "     1. Validate input JSON for required fields (`title`, `author_id`, `genre`, `published_year`).\n",
    "     2. Insert the new record into the database using an `INSERT INTO` query.\n",
    "     3. Return a success message or handle database errors.\n",
    "\n",
    "### d. **Update Book Information**\n",
    "   - **Endpoint:** `/books/<int:book_id>`\n",
    "   - **Method:** `PUT`\n",
    "   - **Description:** Updates specified fields (`title`, `genre`, `published_year`) of a book identified by its ID.\n",
    "   - **Implementation:**\n",
    "     1. Validate input JSON for fields to update.\n",
    "     2. Check if the book exists in the database.\n",
    "     3. Construct and execute an `UPDATE` query dynamically based on provided fields.\n",
    "     4. Return a success message or handle errors.\n",
    "\n",
    "### e. **Delete a Book**\n",
    "   - **Endpoint:** `/books/<int:book_id>`\n",
    "   - **Method:** `DELETE`\n",
    "   - **Description:** Deletes a book from the `Books` table by its ID.\n",
    "   - **Implementation:**\n",
    "     1. Check if the book exists in the database.\n",
    "     2. Execute a `DELETE FROM Books WHERE id = ?` query.\n",
    "     3. Return a success message or handle errors.\n",
    "\n",
    "## 5. **Run Flask App in a Separate Thread**\n",
    "   - Define a `run_flask` function to start the Flask app on `http://127.0.0.1:5001`.\n",
    "   - Use threading to run the Flask server in a separate thread, ensuring the main program can continue running concurrently.\n",
    "\n",
    "## 6. **Start the Flask Server**\n",
    "   - Create a thread using `threading.Thread` to run the `run_flask` function.\n",
    "   - Start the thread with `thread.start()`.\n",
    "   - Print a message to indicate that the Flask server is running.\n",
    "\n",
    "---\n",
    "\n",
    "# Example Workflow for Testing API\n",
    "### 1. **Run the Flask App**\n",
    "   - Execute the script, and the server will start at `http://127.0.0.1:5001`.\n",
    "\n",
    "### 2. **Test Endpoints Using CURL or Postman**\n",
    "   - **Home Route:** `GET /`\n",
    "   - **Get Books:** `GET /books`\n",
    "   - **Add Book:** `POST /books` with JSON body:\n",
    "     ```json\n",
    "     {\n",
    "       \"title\": \"Sample Book\",\n",
    "       \"author_id\": 1,\n",
    "       \"genre\": \"Fiction\",\n",
    "       \"published_year\": 2023\n",
    "     }\n",
    "     ```\n",
    "   - **Update Book:** `PUT /books/1` with JSON body:\n",
    "     ```json\n",
    "     {\n",
    "       \"title\": \"Updated Title\",\n",
    "       \"genre\": \"Non-Fiction\"\n",
    "     }\n",
    "     ```\n",
    "   - **Delete Book:** `DELETE /books/1`\n",
    "\n",
    "### 3. **Verify Database Operations**\n",
    "   - Inspect the SQLite database (`bookbazaar.db`) to confirm changes using tools like `sqlite3` CLI or a database viewer.\n",
    "\n",
    "---\n",
    "\n",
    "# Notes\n",
    "- The app uses SQLite as the database.\n",
    "- Ensure that the `bookbazaar.db` file and the `Books` table are created before running the app.\n",
    "- The `Books` table schema should include fields: `id`, `title`, `author_id`, `genre`, `published_year`.\n",
    "\n",
    "```sql\n",
    "CREATE TABLE Books (\n",
    "    id INTEGER PRIMARY KEY AUTOINCREMENT,\n",
    "    title TEXT NOT NULL,\n",
    "    author_id INTEGER NOT NULL,\n",
    "    genre TEXT NOT NULL,\n",
    "    published_year INTEGER NOT NULL\n",
    ");\n"
   ]
  },
  {
   "cell_type": "code",
   "execution_count": 18,
   "metadata": {},
   "outputs": [
    {
     "name": "stdout",
     "output_type": "stream",
     "text": [
      "Starting Flask server...Flask server is running on http://127.0.0.1:5001\n",
      "\n",
      " * Serving Flask app '__main__'\n",
      " * Debug mode: on\n"
     ]
    }
   ],
   "source": [
    "from flask import Flask, request, jsonify\n",
    "import sqlite3\n",
    "import threading\n",
    "\n",
    "# Initialize Flask app\n",
    "app = Flask(__name__)\n",
    "\n",
    "# Function to get a database connection\n",
    "def get_db_connection(db_file):\n",
    "    conn = sqlite3.connect(db_file)\n",
    "    conn.row_factory = sqlite3.Row  # Return rows as dictionaries\n",
    "    return conn\n",
    "\n",
    "# Home route\n",
    "@app.route('/')\n",
    "def home():\n",
    "    return \"Hello, Flask! This is the home page.\"\n",
    "\n",
    "# Route to get all books\n",
    "@app.route('/books', methods=['GET'])\n",
    "def get_books():\n",
    "    \"\"\"Retrieve all books from the Books table.\"\"\"\n",
    "    conn = get_db_connection(\"bookbazaar.db\")\n",
    "    cursor = conn.cursor()\n",
    "    try:\n",
    "        cursor.execute('SELECT * FROM Books')\n",
    "        books = cursor.fetchall()\n",
    "        return jsonify([dict(book) for book in books]), 200\n",
    "    except sqlite3.Error as e:\n",
    "        return jsonify({\"error\": f\"An error occurred while retrieving books: {e}\"}), 500\n",
    "    finally:\n",
    "        conn.close()\n",
    "\n",
    "# Route to add a new book\n",
    "@app.route('/books', methods=['POST'])\n",
    "def add_book():\n",
    "    \"\"\"Add a new book to the Books table.\"\"\"\n",
    "    conn = get_db_connection(\"bookbazaar.db\")\n",
    "    if not conn:\n",
    "        return jsonify({\"error\": \"Database connection failed\"}), 500\n",
    "\n",
    "    data = request.get_json()\n",
    "    if not data or not all(key in data for key in ['title', 'author_id', 'genre', 'published_year']):\n",
    "        return jsonify({\"error\": \"Invalid input: Ensure 'title', 'author_id', 'genre', and 'published_year' are provided\"}), 400\n",
    "\n",
    "    cursor = conn.cursor()\n",
    "    try:\n",
    "        cursor.execute('''\n",
    "        INSERT INTO Books (title, author_id, genre, published_year)\n",
    "        VALUES (?, ?, ?, ?)\n",
    "        ''', (data['title'], data['author_id'], data['genre'], data['published_year']))\n",
    "        conn.commit()\n",
    "        return jsonify({\"message\": \"Book added successfully!\"}), 201\n",
    "    except sqlite3.Error as e:\n",
    "        return jsonify({\"error\": f\"An error occurred while adding the book: {e}\"}), 500\n",
    "    finally:\n",
    "        conn.close()\n",
    "\n",
    "# Route to update a book\n",
    "@app.route('/books/<int:book_id>', methods=['PUT'])\n",
    "def update_book(book_id):\n",
    "    \"\"\"Update a book's information.\"\"\"\n",
    "    conn = get_db_connection(\"bookbazaar.db\")\n",
    "    if not conn:\n",
    "        return jsonify({\"error\": \"Database connection failed\"}), 500\n",
    "\n",
    "    data = request.get_json()\n",
    "    if not data:\n",
    "        return jsonify({\"error\": \"Invalid input: No data provided\"}), 400\n",
    "\n",
    "    cursor = conn.cursor()\n",
    "    try:\n",
    "        # Check if the book exists\n",
    "        cursor.execute('SELECT id FROM Books WHERE id = ?', (book_id,))\n",
    "        if not cursor.fetchone():\n",
    "            return jsonify({\"error\": f\"No book found with ID {book_id}\"}), 404\n",
    "\n",
    "        # Update the book's information\n",
    "        update_fields = []\n",
    "        update_values = []\n",
    "        for key in ['title', 'genre', 'published_year']:\n",
    "            if key in data:\n",
    "                update_fields.append(f\"{key} = ?\")\n",
    "                update_values.append(data[key])\n",
    "\n",
    "        if not update_fields:\n",
    "            return jsonify({\"error\": \"No valid fields provided for update\"}), 400\n",
    "\n",
    "        update_values.append(book_id)\n",
    "        query = f\"UPDATE Books SET {', '.join(update_fields)} WHERE id = ?\"\n",
    "        cursor.execute(query, update_values)\n",
    "        conn.commit()\n",
    "\n",
    "        return jsonify({\"message\": \"Book updated successfully!\"}), 200\n",
    "    except sqlite3.Error as e:\n",
    "        return jsonify({\"error\": f\"An error occurred while updating the book: {e}\"}), 500\n",
    "    finally:\n",
    "        conn.close()\n",
    "\n",
    "# Route to delete a book\n",
    "@app.route('/books/<int:book_id>', methods=['DELETE'])\n",
    "def delete_book(book_id):\n",
    "    \"\"\"Delete a book by its ID.\"\"\"\n",
    "    conn = get_db_connection(\"bookbazaar.db\")\n",
    "    if not conn:\n",
    "        return jsonify({\"error\": \"Database connection failed\"}), 500\n",
    "\n",
    "    cursor = conn.cursor()\n",
    "    try:\n",
    "        # Check if the book exists\n",
    "        cursor.execute('SELECT id FROM Books WHERE id = ?', (book_id,))\n",
    "        if not cursor.fetchone():\n",
    "            return jsonify({\"error\": f\"No book found with ID {book_id}\"}), 404\n",
    "\n",
    "        # Delete the book\n",
    "        cursor.execute('DELETE FROM Books WHERE id = ?', (book_id,))\n",
    "        conn.commit()\n",
    "        return jsonify({\"message\": \"Book deleted successfully!\"}), 200\n",
    "    except sqlite3.Error as e:\n",
    "        return jsonify({\"error\": f\"An error occurred while deleting the book: {e}\"}), 500\n",
    "    finally:\n",
    "        conn.close()\n",
    "\n",
    "# Function to run the Flask app in a separate thread\n",
    "def run_flask():\n",
    "    print(\"Starting Flask server...\")\n",
    "    app.run(debug=True, port=5001, use_reloader=False)\n",
    "\n",
    "# Start the Flask app in a separate thread\n",
    "thread = threading.Thread(target=run_flask)\n",
    "thread.start()\n",
    "\n",
    "print(\"Flask server is running on http://127.0.0.1:5001\")"
   ]
  },
  {
   "cell_type": "markdown",
   "metadata": {},
   "source": [
    "# Taks 6 : Test APIs Using Postman"
   ]
  },
  {
   "cell_type": "markdown",
   "metadata": {},
   "source": [
    "### Step 1: Install Postman\n",
    "- Download and install Postman from the official website: https://www.postman.com/downloads/.\n",
    "\n",
    "- Launch Postman after installation."
   ]
  },
  {
   "cell_type": "markdown",
   "metadata": {},
   "source": [
    "### Step 2: Create a Postman Collection\n",
    "\n",
    "![collection](https://github.com/user-attachments/assets/72fcc021-3ff3-419b-9087-fd92b1f93d1a)"
   ]
  },
  {
   "cell_type": "markdown",
   "metadata": {},
   "source": [
    "### Step 3 : Test each endpoint\n",
    "\n",
    "-  Add a new book\n",
    "\n",
    "![add a book](https://github.com/user-attachments/assets/c9b92d4e-ed36-411e-9013-595a0620526f)\n",
    "\n",
    "- Retrieve the list of books.\n",
    "\n",
    "![Get All Books](https://github.com/user-attachments/assets/85d133a9-ec52-454f-822a-3f37a6617e2e)\n",
    "\n",
    "\n",
    "- Update a book’s details.\n",
    "\n",
    "![update_successfully](https://github.com/user-attachments/assets/a70907e6-95a9-4053-af3e-dd240231852a)\n",
    "\n",
    "\n",
    "- Delete a book.\n",
    "\n",
    "![delete a book successfully](https://github.com/user-attachments/assets/507f1888-3102-43aa-93a0-11aa74587698)"
   ]
  },
  {
   "cell_type": "markdown",
   "metadata": {},
   "source": [
    "### Step 4 :  Verify that the responses are as expected and handle errors correctly\n",
    "\n",
    "- Invalid JSON POST Input\n",
    "\n",
    "![post_error](https://github.com/user-attachments/assets/44609e27-24cb-4b51-a9bb-d7a0f4ce7d99)\n",
    "\n",
    "- Not found ID \n",
    "\n",
    "![update_error](https://github.com/user-attachments/assets/cc78fa89-940f-4fde-92e6-1a247241361e)"
   ]
  },
  {
   "cell_type": "markdown",
   "metadata": {},
   "source": [
    "# Task 7 "
   ]
  },
  {
   "cell_type": "markdown",
   "metadata": {},
   "source": [
    "### Done as a seperated python file because jupyter notebooks can't be directly imported as a python module for api.wsgi"
   ]
  },
  {
   "cell_type": "markdown",
   "metadata": {},
   "source": [
    "# Task 8"
   ]
  },
  {
   "cell_type": "markdown",
   "metadata": {},
   "source": [
    "### Task 8: Set Up the Non-Relational Database with MongoDB\n",
    "\n",
    "**Objective:**Set up and interact with a MongoDB database to store book reviews.\n",
    "\n",
    "**Steps:**\n",
    "\n",
    "1.  **Connect to MongoDB:** Establish a connection to the MongoDB server.\n",
    "    \n",
    "2.  **Create Database and Collection:** Create a database named bookbazaar and a collection named reviews.\n",
    "    \n",
    "3.  **Insert Sample Data:** Add sample review data to the reviews collection.\n",
    "    \n",
    "4.  **CRUD Operations:** Implement functions to add, retrieve, update, and delete reviews.\n",
    "    \n",
    "\n",
    "**Code Blocks:**\n",
    "\n",
    "*   **Connection Code:** Code to connect to MongoDB and verify the connection.\n",
    "    \n",
    "*   **Insert Data:** Code to insert sample reviews into the reviews collection.\n",
    "    \n",
    "*   **CRUD Functions:** Functions to add, retrieve, update, and delete reviews.\n",
    "    \n",
    "*   **Test Functions:** Code to test each CRUD function with sample data.\n",
    "    \n",
    "\n",
    "**Summary:**Successfully set up and interacted with a MongoDB database, including connection establishment, data insertion, and CRUD operations on the reviews collection."
   ]
  },
  {
   "cell_type": "code",
   "execution_count": 19,
   "metadata": {},
   "outputs": [
    {
     "name": "stdout",
     "output_type": "stream",
     "text": [
      "Connection successful to MongoDB!\n"
     ]
    },
    {
     "name": "stderr",
     "output_type": "stream",
     "text": [
      "Address already in use\n",
      "Port 5001 is in use by another program. Either identify and stop that program, or start the server with a different port.\n"
     ]
    },
    {
     "data": {
      "text/plain": [
       "{'ok': 1.0}"
      ]
     },
     "execution_count": 19,
     "metadata": {},
     "output_type": "execute_result"
    }
   ],
   "source": [
    "# Adding Book Bazar database to MongoDB\n",
    "from pymongo import MongoClient\n",
    "from pymongo.errors import PyMongoError\n",
    "# Connect to MongoDB\n",
    "try:\n",
    "    # Establish the connection to MongoDB server\n",
    "    client = MongoClient(\"mongodb://localhost:27017/\")\n",
    "    db = client[\"bookbazaar\"]\n",
    "    \n",
    "    \n",
    "    # Perform a simple command to check the connection\n",
    "    server_status = client.admin.command('ping')\n",
    "    \n",
    "    # Check if the ping response is successful\n",
    "    if server_status['ok']:\n",
    "        print(\"Connection successful to MongoDB!\")\n",
    "    else:\n",
    "        print(\"Failed to connect to MongoDB.\")\n",
    "        \n",
    "except PyMongoError as e:\n",
    "    print(f\"Error connecting to MongoDB: {e}\")\n",
    "    \n",
    "db.command('ping')"
   ]
  },
  {
   "cell_type": "code",
   "execution_count": 20,
   "metadata": {},
   "outputs": [
    {
     "ename": "BulkWriteError",
     "evalue": "batch op errors occurred, full error: {'writeErrors': [{'index': 0, 'code': 11000, 'errmsg': 'E11000 duplicate key error collection: bookbazaar.reviews index: _id_ dup key: { _id: 1 }', 'keyPattern': {'_id': 1}, 'keyValue': {'_id': 1}, 'op': {'_id': 1, 'book_id': 1, 'user_id': 1, 'rating': 4, 'comment': 'Great book!'}}], 'writeConcernErrors': [], 'nInserted': 0, 'nUpserted': 0, 'nMatched': 0, 'nModified': 0, 'nRemoved': 0, 'upserted': []}",
     "output_type": "error",
     "traceback": [
      "\u001b[0;31m---------------------------------------------------------------------------\u001b[0m",
      "\u001b[0;31mBulkWriteError\u001b[0m                            Traceback (most recent call last)",
      "Cell \u001b[0;32mIn[20], line 4\u001b[0m\n\u001b[1;32m      1\u001b[0m collection \u001b[38;5;241m=\u001b[39m db[\u001b[38;5;124m'\u001b[39m\u001b[38;5;124mreviews\u001b[39m\u001b[38;5;124m'\u001b[39m]\n\u001b[1;32m      3\u001b[0m \u001b[38;5;66;03m# Insert sample 3 reviews\u001b[39;00m\n\u001b[0;32m----> 4\u001b[0m \u001b[43mcollection\u001b[49m\u001b[38;5;241;43m.\u001b[39;49m\u001b[43minsert_many\u001b[49m\u001b[43m(\u001b[49m\u001b[43m \u001b[49m\u001b[43m[\u001b[49m\n\u001b[1;32m      5\u001b[0m \u001b[43m    \u001b[49m\u001b[43m{\u001b[49m\u001b[43m   \u001b[49m\u001b[38;5;124;43m\"\u001b[39;49m\u001b[38;5;124;43m_id\u001b[39;49m\u001b[38;5;124;43m\"\u001b[39;49m\u001b[43m:\u001b[49m\u001b[43m \u001b[49m\u001b[38;5;241;43m1\u001b[39;49m\u001b[43m,\u001b[49m\n\u001b[1;32m      6\u001b[0m \u001b[43m        \u001b[49m\u001b[38;5;124;43m\"\u001b[39;49m\u001b[38;5;124;43mbook_id\u001b[39;49m\u001b[38;5;124;43m\"\u001b[39;49m\u001b[43m:\u001b[49m\u001b[43m \u001b[49m\u001b[38;5;241;43m1\u001b[39;49m\u001b[43m,\u001b[49m\n\u001b[1;32m      7\u001b[0m \u001b[43m        \u001b[49m\u001b[38;5;124;43m\"\u001b[39;49m\u001b[38;5;124;43muser_id\u001b[39;49m\u001b[38;5;124;43m\"\u001b[39;49m\u001b[43m:\u001b[49m\u001b[43m \u001b[49m\u001b[38;5;241;43m1\u001b[39;49m\u001b[43m,\u001b[49m\n\u001b[1;32m      8\u001b[0m \u001b[43m        \u001b[49m\u001b[38;5;124;43m\"\u001b[39;49m\u001b[38;5;124;43mrating\u001b[39;49m\u001b[38;5;124;43m\"\u001b[39;49m\u001b[43m:\u001b[49m\u001b[43m \u001b[49m\u001b[38;5;241;43m4\u001b[39;49m\u001b[43m,\u001b[49m\n\u001b[1;32m      9\u001b[0m \u001b[43m        \u001b[49m\u001b[38;5;124;43m\"\u001b[39;49m\u001b[38;5;124;43mcomment\u001b[39;49m\u001b[38;5;124;43m\"\u001b[39;49m\u001b[43m:\u001b[49m\u001b[43m \u001b[49m\u001b[38;5;124;43m\"\u001b[39;49m\u001b[38;5;124;43mGreat book!\u001b[39;49m\u001b[38;5;124;43m\"\u001b[39;49m\n\u001b[1;32m     10\u001b[0m \u001b[43m    \u001b[49m\u001b[43m}\u001b[49m\u001b[43m,\u001b[49m\n\u001b[1;32m     11\u001b[0m \u001b[43m    \u001b[49m\u001b[43m{\u001b[49m\n\u001b[1;32m     12\u001b[0m \u001b[43m        \u001b[49m\u001b[38;5;124;43m\"\u001b[39;49m\u001b[38;5;124;43m_id\u001b[39;49m\u001b[38;5;124;43m\"\u001b[39;49m\u001b[43m:\u001b[49m\u001b[43m \u001b[49m\u001b[38;5;241;43m2\u001b[39;49m\u001b[43m,\u001b[49m\n\u001b[1;32m     13\u001b[0m \u001b[43m        \u001b[49m\u001b[38;5;124;43m\"\u001b[39;49m\u001b[38;5;124;43mbook_id\u001b[39;49m\u001b[38;5;124;43m\"\u001b[39;49m\u001b[43m:\u001b[49m\u001b[43m \u001b[49m\u001b[38;5;241;43m2\u001b[39;49m\u001b[43m,\u001b[49m\n\u001b[1;32m     14\u001b[0m \u001b[43m        \u001b[49m\u001b[38;5;124;43m\"\u001b[39;49m\u001b[38;5;124;43muser_id\u001b[39;49m\u001b[38;5;124;43m\"\u001b[39;49m\u001b[43m:\u001b[49m\u001b[43m \u001b[49m\u001b[38;5;241;43m2\u001b[39;49m\u001b[43m,\u001b[49m\n\u001b[1;32m     15\u001b[0m \u001b[43m        \u001b[49m\u001b[38;5;124;43m\"\u001b[39;49m\u001b[38;5;124;43mrating\u001b[39;49m\u001b[38;5;124;43m\"\u001b[39;49m\u001b[43m:\u001b[49m\u001b[43m \u001b[49m\u001b[38;5;241;43m3\u001b[39;49m\u001b[43m,\u001b[49m\n\u001b[1;32m     16\u001b[0m \u001b[43m        \u001b[49m\u001b[38;5;124;43m\"\u001b[39;49m\u001b[38;5;124;43mcomment\u001b[39;49m\u001b[38;5;124;43m\"\u001b[39;49m\u001b[43m:\u001b[49m\u001b[43m \u001b[49m\u001b[38;5;124;43m\"\u001b[39;49m\u001b[38;5;124;43mBad book.\u001b[39;49m\u001b[38;5;124;43m\"\u001b[39;49m\n\u001b[1;32m     17\u001b[0m \u001b[43m    \u001b[49m\u001b[43m}\u001b[49m\u001b[43m,\u001b[49m\n\u001b[1;32m     18\u001b[0m \u001b[43m    \u001b[49m\u001b[43m{\u001b[49m\u001b[43m   \u001b[49m\n\u001b[1;32m     19\u001b[0m \u001b[43m        \u001b[49m\u001b[38;5;124;43m\"\u001b[39;49m\u001b[38;5;124;43m_id\u001b[39;49m\u001b[38;5;124;43m\"\u001b[39;49m\u001b[43m:\u001b[49m\u001b[43m \u001b[49m\u001b[38;5;241;43m3\u001b[39;49m\u001b[43m,\u001b[49m\n\u001b[1;32m     20\u001b[0m \u001b[43m        \u001b[49m\u001b[38;5;124;43m\"\u001b[39;49m\u001b[38;5;124;43mbook_id\u001b[39;49m\u001b[38;5;124;43m\"\u001b[39;49m\u001b[43m:\u001b[49m\u001b[43m \u001b[49m\u001b[38;5;241;43m3\u001b[39;49m\u001b[43m,\u001b[49m\n\u001b[1;32m     21\u001b[0m \u001b[43m        \u001b[49m\u001b[38;5;124;43m\"\u001b[39;49m\u001b[38;5;124;43muser_id\u001b[39;49m\u001b[38;5;124;43m\"\u001b[39;49m\u001b[43m:\u001b[49m\u001b[43m \u001b[49m\u001b[38;5;241;43m3\u001b[39;49m\u001b[43m,\u001b[49m\n\u001b[1;32m     22\u001b[0m \u001b[43m        \u001b[49m\u001b[38;5;124;43m\"\u001b[39;49m\u001b[38;5;124;43mrating\u001b[39;49m\u001b[38;5;124;43m\"\u001b[39;49m\u001b[43m:\u001b[49m\u001b[43m \u001b[49m\u001b[38;5;241;43m5\u001b[39;49m\u001b[43m,\u001b[49m\n\u001b[1;32m     23\u001b[0m \u001b[43m        \u001b[49m\u001b[38;5;124;43m\"\u001b[39;49m\u001b[38;5;124;43mcomment\u001b[39;49m\u001b[38;5;124;43m\"\u001b[39;49m\u001b[43m:\u001b[49m\u001b[43m \u001b[49m\u001b[38;5;124;43m\"\u001b[39;49m\u001b[38;5;124;43mExcellent book!\u001b[39;49m\u001b[38;5;124;43m\"\u001b[39;49m\n\u001b[1;32m     24\u001b[0m \u001b[43m    \u001b[49m\u001b[43m}\u001b[49m\n\u001b[1;32m     25\u001b[0m \u001b[43m        \u001b[49m\u001b[43m]\u001b[49m\u001b[43m)\u001b[49m\n",
      "File \u001b[0;32m/Library/Frameworks/Python.framework/Versions/3.13/lib/python3.13/site-packages/pymongo/_csot.py:119\u001b[0m, in \u001b[0;36mapply.<locals>.csot_wrapper\u001b[0;34m(self, *args, **kwargs)\u001b[0m\n\u001b[1;32m    117\u001b[0m         \u001b[38;5;28;01mwith\u001b[39;00m _TimeoutContext(timeout):\n\u001b[1;32m    118\u001b[0m             \u001b[38;5;28;01mreturn\u001b[39;00m func(\u001b[38;5;28mself\u001b[39m, \u001b[38;5;241m*\u001b[39margs, \u001b[38;5;241m*\u001b[39m\u001b[38;5;241m*\u001b[39mkwargs)\n\u001b[0;32m--> 119\u001b[0m \u001b[38;5;28;01mreturn\u001b[39;00m \u001b[43mfunc\u001b[49m\u001b[43m(\u001b[49m\u001b[38;5;28;43mself\u001b[39;49m\u001b[43m,\u001b[49m\u001b[43m \u001b[49m\u001b[38;5;241;43m*\u001b[39;49m\u001b[43margs\u001b[49m\u001b[43m,\u001b[49m\u001b[43m \u001b[49m\u001b[38;5;241;43m*\u001b[39;49m\u001b[38;5;241;43m*\u001b[39;49m\u001b[43mkwargs\u001b[49m\u001b[43m)\u001b[49m\n",
      "File \u001b[0;32m/Library/Frameworks/Python.framework/Versions/3.13/lib/python3.13/site-packages/pymongo/synchronous/collection.py:975\u001b[0m, in \u001b[0;36mCollection.insert_many\u001b[0;34m(self, documents, ordered, bypass_document_validation, session, comment)\u001b[0m\n\u001b[1;32m    973\u001b[0m blk \u001b[38;5;241m=\u001b[39m _Bulk(\u001b[38;5;28mself\u001b[39m, ordered, bypass_document_validation, comment\u001b[38;5;241m=\u001b[39mcomment)\n\u001b[1;32m    974\u001b[0m blk\u001b[38;5;241m.\u001b[39mops \u001b[38;5;241m=\u001b[39m \u001b[38;5;28mlist\u001b[39m(gen())\n\u001b[0;32m--> 975\u001b[0m \u001b[43mblk\u001b[49m\u001b[38;5;241;43m.\u001b[39;49m\u001b[43mexecute\u001b[49m\u001b[43m(\u001b[49m\u001b[43mwrite_concern\u001b[49m\u001b[43m,\u001b[49m\u001b[43m \u001b[49m\u001b[43msession\u001b[49m\u001b[43m,\u001b[49m\u001b[43m \u001b[49m\u001b[43m_Op\u001b[49m\u001b[38;5;241;43m.\u001b[39;49m\u001b[43mINSERT\u001b[49m\u001b[43m)\u001b[49m\n\u001b[1;32m    976\u001b[0m \u001b[38;5;28;01mreturn\u001b[39;00m InsertManyResult(inserted_ids, write_concern\u001b[38;5;241m.\u001b[39macknowledged)\n",
      "File \u001b[0;32m/Library/Frameworks/Python.framework/Versions/3.13/lib/python3.13/site-packages/pymongo/synchronous/bulk.py:736\u001b[0m, in \u001b[0;36m_Bulk.execute\u001b[0;34m(self, write_concern, session, operation)\u001b[0m\n\u001b[1;32m    734\u001b[0m         \u001b[38;5;28;01mreturn\u001b[39;00m \u001b[38;5;28;01mNone\u001b[39;00m\n\u001b[1;32m    735\u001b[0m \u001b[38;5;28;01melse\u001b[39;00m:\n\u001b[0;32m--> 736\u001b[0m     \u001b[38;5;28;01mreturn\u001b[39;00m \u001b[38;5;28;43mself\u001b[39;49m\u001b[38;5;241;43m.\u001b[39;49m\u001b[43mexecute_command\u001b[49m\u001b[43m(\u001b[49m\u001b[43mgenerator\u001b[49m\u001b[43m,\u001b[49m\u001b[43m \u001b[49m\u001b[43mwrite_concern\u001b[49m\u001b[43m,\u001b[49m\u001b[43m \u001b[49m\u001b[43msession\u001b[49m\u001b[43m,\u001b[49m\u001b[43m \u001b[49m\u001b[43moperation\u001b[49m\u001b[43m)\u001b[49m\n",
      "File \u001b[0;32m/Library/Frameworks/Python.framework/Versions/3.13/lib/python3.13/site-packages/pymongo/synchronous/bulk.py:603\u001b[0m, in \u001b[0;36m_Bulk.execute_command\u001b[0;34m(self, generator, write_concern, session, operation)\u001b[0m\n\u001b[1;32m    593\u001b[0m _ \u001b[38;5;241m=\u001b[39m client\u001b[38;5;241m.\u001b[39m_retryable_write(\n\u001b[1;32m    594\u001b[0m     \u001b[38;5;28mself\u001b[39m\u001b[38;5;241m.\u001b[39mis_retryable,\n\u001b[1;32m    595\u001b[0m     retryable_bulk,\n\u001b[0;32m   (...)\u001b[0m\n\u001b[1;32m    599\u001b[0m     operation_id\u001b[38;5;241m=\u001b[39mop_id,\n\u001b[1;32m    600\u001b[0m )\n\u001b[1;32m    602\u001b[0m \u001b[38;5;28;01mif\u001b[39;00m full_result[\u001b[38;5;124m\"\u001b[39m\u001b[38;5;124mwriteErrors\u001b[39m\u001b[38;5;124m\"\u001b[39m] \u001b[38;5;129;01mor\u001b[39;00m full_result[\u001b[38;5;124m\"\u001b[39m\u001b[38;5;124mwriteConcernErrors\u001b[39m\u001b[38;5;124m\"\u001b[39m]:\n\u001b[0;32m--> 603\u001b[0m     \u001b[43m_raise_bulk_write_error\u001b[49m\u001b[43m(\u001b[49m\u001b[43mfull_result\u001b[49m\u001b[43m)\u001b[49m\n\u001b[1;32m    604\u001b[0m \u001b[38;5;28;01mreturn\u001b[39;00m full_result\n",
      "File \u001b[0;32m/Library/Frameworks/Python.framework/Versions/3.13/lib/python3.13/site-packages/pymongo/bulk_shared.py:131\u001b[0m, in \u001b[0;36m_raise_bulk_write_error\u001b[0;34m(full_result)\u001b[0m\n\u001b[1;32m    125\u001b[0m         errmsg \u001b[38;5;241m=\u001b[39m (\n\u001b[1;32m    126\u001b[0m             \u001b[38;5;124m\"\u001b[39m\u001b[38;5;124mThis MongoDB deployment does not support \u001b[39m\u001b[38;5;124m\"\u001b[39m\n\u001b[1;32m    127\u001b[0m             \u001b[38;5;124m\"\u001b[39m\u001b[38;5;124mretryable writes. Please add retryWrites=false \u001b[39m\u001b[38;5;124m\"\u001b[39m\n\u001b[1;32m    128\u001b[0m             \u001b[38;5;124m\"\u001b[39m\u001b[38;5;124mto your connection string.\u001b[39m\u001b[38;5;124m\"\u001b[39m\n\u001b[1;32m    129\u001b[0m         )\n\u001b[1;32m    130\u001b[0m         \u001b[38;5;28;01mraise\u001b[39;00m OperationFailure(errmsg, code, full_result)\n\u001b[0;32m--> 131\u001b[0m \u001b[38;5;28;01mraise\u001b[39;00m BulkWriteError(full_result)\n",
      "\u001b[0;31mBulkWriteError\u001b[0m: batch op errors occurred, full error: {'writeErrors': [{'index': 0, 'code': 11000, 'errmsg': 'E11000 duplicate key error collection: bookbazaar.reviews index: _id_ dup key: { _id: 1 }', 'keyPattern': {'_id': 1}, 'keyValue': {'_id': 1}, 'op': {'_id': 1, 'book_id': 1, 'user_id': 1, 'rating': 4, 'comment': 'Great book!'}}], 'writeConcernErrors': [], 'nInserted': 0, 'nUpserted': 0, 'nMatched': 0, 'nModified': 0, 'nRemoved': 0, 'upserted': []}"
     ]
    }
   ],
   "source": [
    "collection = db['reviews']\n",
    "\n",
    "# Insert sample 3 reviews\n",
    "collection.insert_many( [\n",
    "    {   \"_id\": 1,\n",
    "        \"book_id\": 1,\n",
    "        \"user_id\": 1,\n",
    "        \"rating\": 4,\n",
    "        \"comment\": \"Great book!\"\n",
    "    },\n",
    "    {\n",
    "        \"_id\": 2,\n",
    "        \"book_id\": 2,\n",
    "        \"user_id\": 2,\n",
    "        \"rating\": 3,\n",
    "        \"comment\": \"Bad book.\"\n",
    "    },\n",
    "    {   \n",
    "        \"_id\": 3,\n",
    "        \"book_id\": 3,\n",
    "        \"user_id\": 3,\n",
    "        \"rating\": 5,\n",
    "        \"comment\": \"Excellent book!\"\n",
    "    }\n",
    "        ])"
   ]
  },
  {
   "cell_type": "code",
   "execution_count": 29,
   "metadata": {},
   "outputs": [
    {
     "name": "stdout",
     "output_type": "stream",
     "text": [
      "{'_id': 1, 'book_id': 1, 'user_id': 1, 'rating': 4, 'comment': 'Great book!'}\n",
      "{'_id': 2, 'book_id': 2, 'user_id': 2, 'rating': 3, 'comment': 'Bad book.'}\n",
      "{'_id': 3, 'book_id': 3, 'user_id': 3, 'rating': 5, 'comment': 'Excellent book!'}\n"
     ]
    }
   ],
   "source": [
    "for review in collection.find():\n",
    "    print(review)"
   ]
  },
  {
   "cell_type": "code",
   "execution_count": 30,
   "metadata": {},
   "outputs": [
    {
     "name": "stdout",
     "output_type": "stream",
     "text": [
      "{'_id': 1, 'book_id': 1, 'user_id': 1, 'rating': 4, 'comment': 'Great book!'}\n",
      "{'_id': 2, 'book_id': 2, 'user_id': 2, 'rating': 3, 'comment': 'Bad book.'}\n",
      "{'_id': 3, 'book_id': 3, 'user_id': 3, 'rating': 5, 'comment': 'Excellent book!'}\n",
      "{'_id': 5, 'book_id': 5, 'user_id': 5, 'rating': 0, 'comment': 'I would rather die'}\n"
     ]
    }
   ],
   "source": [
    "# Adding review function\n",
    "def add_review(_id, book_id, user_id, rating, comment):\n",
    "    try:\n",
    "        collection.insert_one({ \"_id\": _id, \"book_id\": book_id, \"user_id\": user_id, \"rating\": rating, \"comment\": comment})\n",
    "    except PyMongoError as e:\n",
    "        print(f\"An error occurred while adding the review: {e}\")\n",
    "\n",
    "add_review(5, 5, 5, 0, 'I would rather die')\n",
    "for review in collection.find():\n",
    "    print(review)"
   ]
  },
  {
   "cell_type": "code",
   "execution_count": 31,
   "metadata": {},
   "outputs": [
    {
     "data": {
      "text/plain": [
       "{'_id': 5,\n",
       " 'book_id': 5,\n",
       " 'user_id': 5,\n",
       " 'rating': 0,\n",
       " 'comment': 'I would rather die'}"
      ]
     },
     "execution_count": 31,
     "metadata": {},
     "output_type": "execute_result"
    }
   ],
   "source": [
    "# Retrieve a review by book ID function\n",
    "def get_review_by_book_id(book_id):\n",
    "    try:\n",
    "        review = collection.find_one({\"book_id\": book_id})\n",
    "        if review:\n",
    "            return review\n",
    "        else:\n",
    "            return None\n",
    "    except sqlite3.Error as e:\n",
    "        print(f\"An error occurred while retrieving the review: {e}\")\n",
    "        return None\n",
    "get_review_by_book_id(5)"
   ]
  },
  {
   "cell_type": "code",
   "execution_count": 32,
   "metadata": {},
   "outputs": [
    {
     "name": "stdout",
     "output_type": "stream",
     "text": [
      "Successfully updated the review with _id: 5\n",
      "{'_id': 1, 'book_id': 1, 'user_id': 1, 'rating': 4, 'comment': 'Great book!'}\n",
      "{'_id': 2, 'book_id': 2, 'user_id': 2, 'rating': 3, 'comment': 'Bad book.'}\n",
      "{'_id': 3, 'book_id': 3, 'user_id': 3, 'rating': 5, 'comment': 'Excellent book!'}\n",
      "{'_id': 5, 'book_id': 5, 'user_id': 5, 'rating': 0, 'comment': 'I would rather get hit by a car'}\n"
     ]
    }
   ],
   "source": [
    "# Updating function\n",
    "def update_review(_id, book_id, user_id, rating, comment):\n",
    "    try:\n",
    "        result = collection.update_one(\n",
    "            {\"_id\": _id},\n",
    "            {\"$set\": {\"book_id\": book_id, \"user_id\": user_id, \"rating\": rating, \"comment\": comment}}\n",
    "        )\n",
    "        if result.matched_count > 0:\n",
    "            print(f\"Successfully updated the review with _id: {_id}\")\n",
    "        else:\n",
    "            print(f\"No review found with _id: {_id}\")\n",
    "    except PyMongoError as e:\n",
    "        print(f\"An error occurred while updating the review: {e}\")\n",
    "\n",
    "update_review(5, 5, 5, 0, 'I would rather get hit by a car')\n",
    "for review in collection.find():\n",
    "    print(review)"
   ]
  },
  {
   "cell_type": "code",
   "execution_count": 33,
   "metadata": {},
   "outputs": [
    {
     "name": "stdout",
     "output_type": "stream",
     "text": [
      "Successfully deleted the review with _id: 5\n",
      "{'_id': 1, 'book_id': 1, 'user_id': 1, 'rating': 4, 'comment': 'Great book!'}\n",
      "{'_id': 2, 'book_id': 2, 'user_id': 2, 'rating': 3, 'comment': 'Bad book.'}\n",
      "{'_id': 3, 'book_id': 3, 'user_id': 3, 'rating': 5, 'comment': 'Excellent book!'}\n"
     ]
    }
   ],
   "source": [
    "# Function to delete a review\n",
    "def delete_review(_id):\n",
    "    try:\n",
    "        result = collection.delete_one({\"_id\": _id})\n",
    "        if result.deleted_count > 0:\n",
    "            print(f\"Successfully deleted the review with _id: {_id}\")\n",
    "        else:\n",
    "            print(f\"No review found with _id: {_id}\")\n",
    "    except PyMongoError as e:\n",
    "        print(f\"An error occurred while deleting the review: {e}\")\n",
    "\n",
    "delete_review(5)\n",
    "for review in collection.find():\n",
    "    print(review)"
   ]
  },
  {
   "cell_type": "markdown",
   "metadata": {},
   "source": [
    "Task 11"
   ]
  },
  {
   "cell_type": "markdown",
   "metadata": {},
   "source": [
    "Integrate MongoDB Operations into the APIs"
   ]
  },
  {
   "cell_type": "code",
   "execution_count": 26,
   "metadata": {},
   "outputs": [],
   "source": [
    "from flask import Flask, request, jsonify\n",
    "from sqlite3 import connect, OperationalError\n",
    "\n",
    "# Initialize Flask app\n",
    "app = Flask(__name__)\n",
    "\n",
    "# MongoDB Setup\n",
    "client = MongoClient(\"mongodb://localhost:27017/\")\n",
    "db = client[\"bookbazaar\"]\n",
    "collection = db['reviews']"
   ]
  },
  {
   "cell_type": "markdown",
   "metadata": {},
   "source": [
    "SQLite Setup"
   ]
  },
  {
   "cell_type": "code",
   "execution_count": 27,
   "metadata": {},
   "outputs": [],
   "source": [
    "# SQLite Setup \n",
    "def check_book_exists(book_id):\n",
    "    try:\n",
    "        conn = connect('books.db')  \n",
    "        cursor = conn.cursor()\n",
    "        cursor.execute(\"SELECT COUNT(1) FROM books WHERE id = ?\", (book_id,))\n",
    "        exists = cursor.fetchone()[0] > 0\n",
    "        conn.close()\n",
    "        return exists\n",
    "    except OperationalError as e:\n",
    "        print(f\"Error checking book existence: {e}\")\n",
    "        return False"
   ]
  },
  {
   "cell_type": "markdown",
   "metadata": {},
   "source": [
    "GET /books/<id>/reviews to list all reviews for a given book."
   ]
  },
  {
   "cell_type": "code",
   "execution_count": 28,
   "metadata": {},
   "outputs": [],
   "source": [
    "# GET /books/<id>/reviews - List all reviews for a given book\n",
    "@app.route('/books/<int:book_id>/reviews', methods=['GET'])\n",
    "def get_reviews(book_id):\n",
    "    try:\n",
    "        reviews = list(collection.find({\"book_id\": book_id}))\n",
    "        if reviews:\n",
    "            return jsonify(reviews), 200\n",
    "        else:\n",
    "            return jsonify({\"message\": \"No reviews found for this book\"}), 404\n",
    "    except PyMongoError as e:\n",
    "        return jsonify({\"error\": f\"An error occurred: {e}\"}), 500"
   ]
  },
  {
   "cell_type": "markdown",
   "metadata": {},
   "source": [
    "POST /books/<id>/reviews to add a new review to a book."
   ]
  },
  {
   "cell_type": "code",
   "execution_count": 29,
   "metadata": {},
   "outputs": [],
   "source": [
    "# POST /books/<id>/reviews - Add a new review to a book\n",
    "@app.route('/books/<int:book_id>/reviews', methods=['POST'])\n",
    "def add_review(book_id):\n",
    "    if not check_book_exists(book_id):\n",
    "        return jsonify({\"error\": \"Book not found\"}), 404\n",
    "    \n",
    "    try:\n",
    "        data = request.get_json()\n",
    "        _id = data.get(\"_id\")\n",
    "        user_id = data.get(\"user_id\")\n",
    "        rating = data.get(\"rating\")\n",
    "        comment = data.get(\"comment\")\n",
    "\n",
    "        if _id and user_id and rating is not None and comment:\n",
    "            collection.insert_one({\n",
    "                \"_id\": _id, \n",
    "                \"book_id\": book_id, \n",
    "                \"user_id\": user_id, \n",
    "                \"rating\": rating, \n",
    "                \"comment\": comment\n",
    "            })\n",
    "            return jsonify({\"message\": \"Review added successfully\"}), 201\n",
    "        else:\n",
    "            return jsonify({\"error\": \"Invalid data\"}), 400\n",
    "    except PyMongoError as e:\n",
    "        return jsonify({\"error\": f\"An error occurred: {e}\"}), 500\n",
    "\n"
   ]
  },
  {
   "cell_type": "markdown",
   "metadata": {},
   "source": [
    "PUT /reviews/<review_id> to update a review."
   ]
  },
  {
   "cell_type": "code",
   "execution_count": 30,
   "metadata": {},
   "outputs": [],
   "source": [
    "# PUT /reviews/<review_id> - Update a review\n",
    "@app.route('/reviews/<int:review_id>', methods=['PUT'])\n",
    "def update_review(review_id):\n",
    "    try:\n",
    "        review = collection.find_one({\"_id\": review_id})\n",
    "        if not review:\n",
    "            return jsonify({\"error\": \"Review not found\"}), 404\n",
    "        \n",
    "        data = request.get_json()\n",
    "        book_id = data.get(\"book_id\")\n",
    "        user_id = data.get(\"user_id\")\n",
    "        rating = data.get(\"rating\")\n",
    "        comment = data.get(\"comment\")\n",
    "\n",
    "        collection.update_one(\n",
    "            {\"_id\": review_id},\n",
    "            {\"$set\": {\"book_id\": book_id, \"user_id\": user_id, \"rating\": rating, \"comment\": comment}}\n",
    "        )\n",
    "\n",
    "        return jsonify({\"message\": \"Review updated successfully\"}), 200\n",
    "    except PyMongoError as e:\n",
    "        return jsonify({\"error\": f\"An error occurred: {e}\"}), 500"
   ]
  },
  {
   "cell_type": "markdown",
   "metadata": {},
   "source": [
    "DELETE /reviews/<review_id> to delete a review."
   ]
  },
  {
   "cell_type": "code",
   "execution_count": 31,
   "metadata": {},
   "outputs": [
    {
     "name": "stdout",
     "output_type": "stream",
     "text": [
      "Starting Flask server...\n",
      "Flask server is running on http://127.0.0.1:5002\n",
      " * Serving Flask app '__main__'\n",
      " * Debug mode: on\n"
     ]
    },
    {
     "name": "stderr",
     "output_type": "stream",
     "text": [
      "Address already in use\n",
      "Port 5002 is in use by another program. Either identify and stop that program, or start the server with a different port.\n"
     ]
    }
   ],
   "source": [
    "# DELETE /reviews/<review_id> - Delete a review\n",
    "@app.route('/reviews/<int:review_id>', methods=['DELETE'])\n",
    "def delete_review(review_id):\n",
    "    try:\n",
    "        result = collection.delete_one({\"_id\": review_id})\n",
    "        if result.deleted_count > 0:\n",
    "            return jsonify({\"message\": \"Review deleted successfully\"}), 200\n",
    "        else:\n",
    "            return jsonify({\"error\": \"Review not found\"}), 404\n",
    "    except PyMongoError as e:\n",
    "        return jsonify({\"error\": f\"An error occurred: {e}\"}), 500\n",
    "\n",
    "\n",
    "\n",
    "def run_flask():\n",
    "    print(\"Starting Flask server...\")\n",
    "    app.run(debug=True, port=5002, use_reloader=False)\n",
    "\n",
    "# Start the Flask app in a separate thread\n",
    "thread = threading.Thread(target=run_flask)\n",
    "thread.start()\n",
    "\n",
    "print(\"Flask server is running on http://127.0.0.1:5002\")\n",
    "\n"
   ]
  }
 ],
 "metadata": {
  "kernelspec": {
   "display_name": "Python 3",
   "language": "python",
   "name": "python3"
  },
  "language_info": {
   "codemirror_mode": {
    "name": "ipython",
    "version": 3
   },
   "file_extension": ".py",
   "mimetype": "text/x-python",
   "name": "python",
   "nbconvert_exporter": "python",
   "pygments_lexer": "ipython3",
   "version": "3.13.1"
  }
 },
 "nbformat": 4,
 "nbformat_minor": 2
}
